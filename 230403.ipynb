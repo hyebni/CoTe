{
  "nbformat": 4,
  "nbformat_minor": 0,
  "metadata": {
    "colab": {
      "provenance": [],
      "authorship_tag": "ABX9TyMqzO2USwqSjlwKdDmASzcP",
      "include_colab_link": true
    },
    "kernelspec": {
      "name": "python3",
      "display_name": "Python 3"
    },
    "language_info": {
      "name": "python"
    }
  },
  "cells": [
    {
      "cell_type": "markdown",
      "metadata": {
        "id": "view-in-github",
        "colab_type": "text"
      },
      "source": [
        "<a href=\"https://colab.research.google.com/github/hyebni/CoTe/blob/main/230403.ipynb\" target=\"_parent\"><img src=\"https://colab.research.google.com/assets/colab-badge.svg\" alt=\"Open In Colab\"/></a>"
      ]
    },
    {
      "cell_type": "markdown",
      "source": [
        "# 주의사항\n",
        "### 화폐단위가 500,400,100이고 800원을 거슬러 줘야할 때는?\n",
        "### 그리디로 풀 수 있는 이유 =  큰 단위가 작은단위의 배수여서 가능!\n",
        "### 항상 해법이 정당한지 고려해야함"
      ],
      "metadata": {
        "id": "vhZtM5K8MNwe"
      }
    },
    {
      "cell_type": "code",
      "execution_count": 4,
      "metadata": {
        "colab": {
          "base_uri": "https://localhost:8080/"
        },
        "id": "a-9OysG8KVft",
        "outputId": "9bd11e90-3d3c-4363-8e9c-d2f865a1d58f"
      },
      "outputs": [
        {
          "output_type": "stream",
          "name": "stdout",
          "text": [
            "2600\n",
            "6\n"
          ]
        }
      ],
      "source": [
        "#EX 3-1\n",
        "A = int(input())\n",
        "C_500 = A//500\n",
        "C_100 = (A-C_500*500)//100\n",
        "C_10 = (A-C_500*500-C_100*100)//10\n",
        "\n",
        "Total = C_500+C_100+C_10\n",
        "print(Total)\n"
      ]
    },
    {
      "cell_type": "code",
      "source": [
        "# Answer-Using for!!\n",
        "A = int(input())\n",
        "Coin = [500,100,10]\n",
        "total_coin = 0\n",
        "\n",
        "for i in Coin:\n",
        "  total_coin += A//int(i)\n",
        "  A %= i\n",
        "\n",
        "print(total_coin)\n",
        "\n"
      ],
      "metadata": {
        "colab": {
          "base_uri": "https://localhost:8080/"
        },
        "id": "8IOB6SOHKxdd",
        "outputId": "d7dbd86f-891c-48aa-a329-e026f59b72de"
      },
      "execution_count": 9,
      "outputs": [
        {
          "output_type": "stream",
          "name": "stdout",
          "text": [
            "2600\n",
            "6\n"
          ]
        }
      ]
    },
    {
      "cell_type": "code",
      "source": [
        "#@title 기본 제목 텍스트\n",
        "from re import I\n",
        "# 3-2 큰수의 법칙 연속해서 더하기!(pg 92)\n",
        "N, M, K = map(int, input().split())\n",
        "data = list(map(int, input().split()))\n",
        "\n",
        "data.sort(reverse=True)\n",
        "\n",
        "total = 0\n",
        "total += (data[0]*K+data[1])*(M//(K+1)) \n",
        "i = M%(K+1)\n",
        "total += data[0]*i \n",
        "print(total)"
      ],
      "metadata": {
        "colab": {
          "base_uri": "https://localhost:8080/"
        },
        "id": "WO9cY7Y2Lp9U",
        "outputId": "f8ab2117-9286-46fe-d6fc-1364817a95e1"
      },
      "execution_count": 32,
      "outputs": [
        {
          "output_type": "stream",
          "name": "stdout",
          "text": [
            "5 8 3\n",
            "2 4 5 4 6\n",
            "46\n"
          ]
        }
      ]
    },
    {
      "cell_type": "code",
      "source": [
        "# 3-3 숫자 카드 게임\n",
        "N, M = map(int, input().split())\n",
        "minimums =[]\n",
        "for i in range(N):\n",
        "  data = list(map(int, input().split()))\n",
        "  minimums.append(min(data))\n",
        "  # maximum = max(maximum, min(data))\n",
        "  \n",
        "print(max(minimums))"
      ],
      "metadata": {
        "colab": {
          "base_uri": "https://localhost:8080/"
        },
        "id": "qcXw2KlpN7xQ",
        "outputId": "7b7f9405-e4a1-40e3-cdcf-e51e1c47d599"
      },
      "execution_count": 39,
      "outputs": [
        {
          "output_type": "stream",
          "name": "stdout",
          "text": [
            "2 4\n",
            "7 3 1 8\n",
            "3 3 3 4\n",
            "3\n"
          ]
        }
      ]
    },
    {
      "cell_type": "code",
      "source": [],
      "metadata": {
        "id": "UmKZEhzFZOns"
      },
      "execution_count": 38,
      "outputs": []
    }
  ]
}