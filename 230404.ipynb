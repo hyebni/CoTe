{
  "nbformat": 4,
  "nbformat_minor": 0,
  "metadata": {
    "colab": {
      "provenance": [],
      "authorship_tag": "ABX9TyPEKlcYES8KUg6gHHJ4C3LW",
      "include_colab_link": true
    },
    "kernelspec": {
      "name": "python3",
      "display_name": "Python 3"
    },
    "language_info": {
      "name": "python"
    }
  },
  "cells": [
    {
      "cell_type": "markdown",
      "metadata": {
        "id": "view-in-github",
        "colab_type": "text"
      },
      "source": [
        "<a href=\"https://colab.research.google.com/github/hyebni/CodingTest/blob/main/230404.ipynb\" target=\"_parent\"><img src=\"https://colab.research.google.com/assets/colab-badge.svg\" alt=\"Open In Colab\"/></a>"
      ]
    },
    {
      "cell_type": "code",
      "execution_count": 3,
      "metadata": {
        "colab": {
          "base_uri": "https://localhost:8080/"
        },
        "id": "XwyJQUhk0Wyk",
        "outputId": "f1a51e2a-58f0-4815-f649-11ab4b0e711a"
      },
      "outputs": [
        {
          "output_type": "stream",
          "name": "stdout",
          "text": [
            "17 4\n",
            "3\n"
          ]
        }
      ],
      "source": [
        "#4 1이 될때까지\n",
        "n, k = map(int,input().split())\n",
        "a = 0\n",
        "while n!=1:\n",
        "  if n%k ==0:\n",
        "    n = int(n/k)\n",
        "  else:\n",
        "    n -= 1\n",
        "  a +=1\n",
        "\n",
        "print(a)"
      ]
    },
    {
      "cell_type": "code",
      "source": [
        "# Q 3-1 모험가 길드 채점XX\n",
        "n = int(input())\n",
        "a = map(int, input().split())\n",
        "a = sorted(a)\n",
        "gn = 0\n",
        "i = 0\n",
        "\n",
        "while True:\n",
        "  if a[i] == a[i+a[i]-1]:\n",
        "    gn += 1\n",
        "    i += a[i]\n",
        "  elif a[i] == 1:\n",
        "    gn +=1\n",
        "    i+=1\n",
        "  elif a[n-1] > n-i:\n",
        "    break;\n",
        "print(gn)\n"
      ],
      "metadata": {
        "colab": {
          "base_uri": "https://localhost:8080/"
        },
        "id": "vapC8yC32E1l",
        "outputId": "82c12cd9-459d-41a3-da8c-a7aebccbd3c0"
      },
      "execution_count": 7,
      "outputs": [
        {
          "output_type": "stream",
          "name": "stdout",
          "text": [
            "5\n",
            "2 3 1 2 2\n",
            "2\n"
          ]
        }
      ]
    },
    {
      "cell_type": "code",
      "source": [
        "# Q 3-2 곱하기 혹은 더하기\n",
        "a = str(input())\n",
        "max_value = 0\n",
        "for i in range(len(a)):\n",
        "  max_value = max(max_value*int(a[i]), max_value+int(a[i]))\n",
        "print(max_value)\n"
      ],
      "metadata": {
        "colab": {
          "base_uri": "https://localhost:8080/"
        },
        "id": "9eqtNldP9CIT",
        "outputId": "1efeff2c-8835-4815-97a8-e582a62568a1"
      },
      "execution_count": 17,
      "outputs": [
        {
          "output_type": "stream",
          "name": "stdout",
          "text": [
            "567\n",
            "210\n"
          ]
        }
      ]
    },
    {
      "cell_type": "code",
      "source": [
        "# Q 3-3 문자열 뒤집기\n",
        "a = str(input())\n",
        "t_0 = 0\n",
        "t_1 = 0 \n",
        "for i in range(len(a)-1):\n",
        "  if a[i]!= a[i+1]:\n",
        "    if a[i] ==str(0):\n",
        "      t_0 += 1\n",
        "    else:\n",
        "      t_1 += 1\n",
        "print(max(t_0,t_1))"
      ],
      "metadata": {
        "colab": {
          "base_uri": "https://localhost:8080/"
        },
        "id": "auJR48sg-TT7",
        "outputId": "9394fcd4-8481-480c-d3cb-119928a3d194"
      },
      "execution_count": 25,
      "outputs": [
        {
          "output_type": "stream",
          "name": "stdout",
          "text": [
            "0011100\n",
            "1\n"
          ]
        }
      ]
    },
    {
      "cell_type": "code",
      "source": [
        "# Q-4 만들 수 없는 금액\n",
        "a = int(input())\n",
        "m = map(int, input().split())\n",
        "\n",
        "a = sorted(a)\n",
        "while True:\n",
        "  if   \n",
        "\n",
        "  \n"
      ],
      "metadata": {
        "id": "160eImBtARIi"
      },
      "execution_count": null,
      "outputs": []
    }
  ]
}