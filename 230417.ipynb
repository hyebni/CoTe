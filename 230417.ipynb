{
  "nbformat": 4,
  "nbformat_minor": 0,
  "metadata": {
    "colab": {
      "provenance": [],
      "authorship_tag": "ABX9TyOYass0LYWVD0m3nsKu+pQX",
      "include_colab_link": true
    },
    "kernelspec": {
      "name": "python3",
      "display_name": "Python 3"
    },
    "language_info": {
      "name": "python"
    }
  },
  "cells": [
    {
      "cell_type": "markdown",
      "metadata": {
        "id": "view-in-github",
        "colab_type": "text"
      },
      "source": [
        "<a href=\"https://colab.research.google.com/github/hyebni/CodingTest/blob/main/230417.ipynb\" target=\"_parent\"><img src=\"https://colab.research.google.com/assets/colab-badge.svg\" alt=\"Open In Colab\"/></a>"
      ]
    },
    {
      "cell_type": "code",
      "execution_count": null,
      "metadata": {
        "colab": {
          "base_uri": "https://localhost:8080/"
        },
        "id": "wmvfVYijLqi8",
        "outputId": "e9697e17-71bd-46d9-dfc0-7c07cac15e3b"
      },
      "outputs": [
        {
          "output_type": "stream",
          "name": "stdout",
          "text": [
            "5\n",
            "R R R U D D\n",
            "<map object at 0x7fa154148910>\n",
            "3 4\n"
          ]
        }
      ],
      "source": [
        "# EX 4-1\n",
        "N = int(input())\n",
        "Road = map(str, input().split(' '))\n",
        "X = 1\n",
        "Y = 1\n",
        "for i in Road:\n",
        "  if i =='R':\n",
        "    X += 1\n",
        "    X = min(X, N)\n",
        "  elif i =='L':\n",
        "    X -= 1\n",
        "    X = max(X, 1)\n",
        "  elif i == 'U':\n",
        "    Y -= 1\n",
        "    Y = max(Y,1)\n",
        "  elif i =='D':\n",
        "    Y +=1\n",
        "    Y = min(Y,N)\n",
        "print(Y, X)\n"
      ]
    },
    {
      "cell_type": "code",
      "source": [
        "# EX 4-2\n",
        "N = int(input())\n",
        "A = N//10\n",
        "B = (N%10)//3\n",
        "N3 = 3*A+B\n",
        "Na = N - N3\n",
        "na_3 = 60**2-45**2\n",
        "n3_3 = 60**2\n",
        "print(N3*n3_3+(Na+1)*na_3)"
      ],
      "metadata": {
        "colab": {
          "base_uri": "https://localhost:8080/"
        },
        "id": "aslOc-q7PjxC",
        "outputId": "883af40c-6d2c-4029-ef84-1334ed3f85ec"
      },
      "execution_count": null,
      "outputs": [
        {
          "output_type": "stream",
          "name": "stdout",
          "text": [
            "7\n",
            "16650\n"
          ]
        }
      ]
    },
    {
      "cell_type": "code",
      "source": [
        "# Ex 4-3\n",
        "l = input()\n",
        "lo = ['a','b','c','d','e','f','g','h']\n",
        "Y = int(l[1])\n",
        "X = lo.index(l[0])+1\n",
        "A = [[2,1],[2,-1],[-2,1],[-2,-1],[1,2],[1,-2],[-1,2],[-1,-2]]\n",
        "count =0\n",
        "for i in A:\n",
        "  x, y = i\n",
        "  if X + x <= 8 and X+x>=1:\n",
        "    if Y+y<=8 and Y+y >=1:\n",
        "      count +=1\n",
        "print(count)"
      ],
      "metadata": {
        "colab": {
          "base_uri": "https://localhost:8080/"
        },
        "id": "PrPy8n7sR2Ub",
        "outputId": "98ff82d9-62f8-450d-926e-0e3b72302653"
      },
      "execution_count": null,
      "outputs": [
        {
          "output_type": "stream",
          "name": "stdout",
          "text": [
            "c2\n",
            "6\n"
          ]
        }
      ]
    },
    {
      "cell_type": "code",
      "source": [
        "#Ex 4-4\n",
        "# N, M = map(int, input().split())\n",
        "# a, b, d = map(int, input().split())\n",
        "# dir = [0,3,2,1,0]\n",
        "# L1 = input().split()\n",
        "# L2 = input().split()\n",
        "# L3 = input().split()\n",
        "# L4 = input().split()\n",
        "\n",
        "N, M = 4,4\n",
        "a, b, d = 1,1,0\n",
        "dir = [0,3,2,1,0]\n",
        "L1 = [1, 1, 1, 1]\n",
        "L2 = [1, 0, 0, 1]\n",
        "L3 = [1, 1, 0, 1]\n",
        "L4 = [1, 1, 1, 1]\n",
        "\n",
        "L = [L1,L2,L3,L4]\n",
        "direction = [[-1,0],[0,-1],[1,0],[0,1],[-1,0],[0,-1],[1,0],[0,1]]\n",
        "count = 0\n",
        "c =0\n",
        "while c<=4:\n",
        "  c = 0\n",
        "  d = d_in\n",
        "  for i in direction[d:d+4]:\n",
        "    x, y = i\n",
        "    d_in = dir[dir.index(d)+1+c]\n",
        "    c +=1\n",
        "    if L[a+x][b+y] == 0:\n",
        "      print('a')\n",
        "      L[a+x][b+y] = 1\n",
        "      a+=x\n",
        "      b+=y\n",
        "      count +=1\n",
        "      print(count)\n",
        "    elif c == 4:\n",
        "      c = 5 \n",
        "\n",
        "\n",
        "print(count)    \n",
        "\n",
        "\n",
        " "
      ],
      "metadata": {
        "colab": {
          "base_uri": "https://localhost:8080/"
        },
        "id": "os46vLCJVwwk",
        "outputId": "af50d726-607b-4169-e3fa-e32511b80e69"
      },
      "execution_count": null,
      "outputs": [
        {
          "output_type": "stream",
          "name": "stdout",
          "text": [
            "a\n",
            "1\n",
            "a\n",
            "2\n",
            "2\n"
          ]
        }
      ]
    },
    {
      "cell_type": "code",
      "source": [
        "11"
      ],
      "metadata": {
        "id": "rJ3Jjlwnex8e"
      },
      "execution_count": null,
      "outputs": []
    }
  ]
}