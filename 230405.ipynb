{
  "nbformat": 4,
  "nbformat_minor": 0,
  "metadata": {
    "colab": {
      "provenance": [],
      "authorship_tag": "ABX9TyO6SqI8Q3s1MFj/wHyHrIpk",
      "include_colab_link": true
    },
    "kernelspec": {
      "name": "python3",
      "display_name": "Python 3"
    },
    "language_info": {
      "name": "python"
    }
  },
  "cells": [
    {
      "cell_type": "markdown",
      "metadata": {
        "id": "view-in-github",
        "colab_type": "text"
      },
      "source": [
        "<a href=\"https://colab.research.google.com/github/hyebni/CodingTest/blob/main/230405.ipynb\" target=\"_parent\"><img src=\"https://colab.research.google.com/assets/colab-badge.svg\" alt=\"Open In Colab\"/></a>"
      ]
    },
    {
      "cell_type": "code",
      "execution_count": null,
      "metadata": {
        "id": "r3RJeAUg690A"
      },
      "outputs": [],
      "source": [
        "# Q-4 만들 수 없는 금액\n"
      ]
    },
    {
      "cell_type": "code",
      "source": [
        "# Q-5 볼링공 고르기\n",
        "N, K = map(int,input().split())\n",
        "a = list(map(int, input().split()))\n",
        "count=0\n",
        "for i in range(N):\n",
        "  for j in range(N-i-1):\n",
        "    if a[i] != a[i+j+1]:\n",
        "      count+=1\n",
        "print(count)\n",
        "\n"
      ],
      "metadata": {
        "colab": {
          "base_uri": "https://localhost:8080/"
        },
        "id": "51ZMost98QGq",
        "outputId": "7893531c-0cf3-496a-c7d9-36e5138147a7"
      },
      "execution_count": 3,
      "outputs": [
        {
          "output_type": "stream",
          "name": "stdout",
          "text": [
            "8 5\n",
            "1 5 4 3 2 4 5 2\n",
            "25\n"
          ]
        }
      ]
    },
    {
      "cell_type": "code",
      "source": [
        "# Q-6 무지의 먹방라이브\n",
        "def solution(food_times, k):\n",
        "    i=0\n",
        "    if min(food_times) > k//len(food_times):\n",
        "        answer = k%len(food_times)\n",
        "    else:\n",
        "        while k!=0:\n",
        "            if food_times[i%len(food_times)]>0:\n",
        "                food_times[i%len(food_times)] -= 1\n",
        "                i +=1\n",
        "                k -=1\n",
        "                \n",
        "            elif food_times[i%3]<=0:\n",
        "                i +=1\n",
        "        while food_times[i%len(food_times)]!=0:\n",
        "            i +=1\n",
        "        answer = i%len(food_times)\n",
        "                \n",
        "    return answer"
      ],
      "metadata": {
        "id": "A2w9H7_X9PIC"
      },
      "execution_count": 10,
      "outputs": []
    },
    {
      "cell_type": "code",
      "source": [
        "solution([3,1,2], k=5)"
      ],
      "metadata": {
        "colab": {
          "base_uri": "https://localhost:8080/",
          "height": 263
        },
        "id": "_1aQAtv_EJHT",
        "outputId": "e3ed5839-2f32-44f8-ec54-d96ee28a2232"
      },
      "execution_count": 47,
      "outputs": [
        {
          "output_type": "error",
          "ename": "UnboundLocalError",
          "evalue": "ignored",
          "traceback": [
            "\u001b[0;31m---------------------------------------------------------------------------\u001b[0m",
            "\u001b[0;31mUnboundLocalError\u001b[0m                         Traceback (most recent call last)",
            "\u001b[0;32m<ipython-input-47-4e6ce9bd6e5e>\u001b[0m in \u001b[0;36m<cell line: 1>\u001b[0;34m()\u001b[0m\n\u001b[0;32m----> 1\u001b[0;31m \u001b[0msolution\u001b[0m\u001b[0;34m(\u001b[0m\u001b[0;34m[\u001b[0m\u001b[0;36m3\u001b[0m\u001b[0;34m,\u001b[0m\u001b[0;36m1\u001b[0m\u001b[0;34m,\u001b[0m\u001b[0;36m2\u001b[0m\u001b[0;34m]\u001b[0m\u001b[0;34m,\u001b[0m \u001b[0mk\u001b[0m\u001b[0;34m=\u001b[0m\u001b[0;36m5\u001b[0m\u001b[0;34m)\u001b[0m\u001b[0;34m\u001b[0m\u001b[0;34m\u001b[0m\u001b[0m\n\u001b[0m",
            "\u001b[0;32m<ipython-input-46-b7b6d68a42ca>\u001b[0m in \u001b[0;36msolution\u001b[0;34m(food_times, k)\u001b[0m\n\u001b[1;32m     26\u001b[0m \u001b[0;34m\u001b[0m\u001b[0m\n\u001b[1;32m     27\u001b[0m \u001b[0;34m\u001b[0m\u001b[0m\n\u001b[0;32m---> 28\u001b[0;31m     \u001b[0;32mreturn\u001b[0m \u001b[0manswer\u001b[0m\u001b[0;34m\u001b[0m\u001b[0;34m\u001b[0m\u001b[0m\n\u001b[0m",
            "\u001b[0;31mUnboundLocalError\u001b[0m: local variable 'answer' referenced before assignment"
          ]
        }
      ]
    },
    {
      "cell_type": "code",
      "source": [
        "def solution(food_times, k):\n",
        "    zero =[]\n",
        "    i = 0\n",
        "    if min(food_times)*len(food_times) > k:\n",
        "        answer = k%len(food_times)+1\n",
        "    elif min(food_times)*len(food_times) < k:\n",
        "        food_times = food_times-list([min(food_times)]*len(food_times))\n",
        "        k -= min(food_times)*len(food_times)\n",
        "        \n",
        "        while k!=0:\n",
        "            if food_times[i%len(food_times)]>0:\n",
        "                food_times[i%len(food_times)] -= 1\n",
        "                i +=1\n",
        "                k -=1\n",
        "                \n",
        "            elif food_times[i%3]<=0:\n",
        "                i +=1\n",
        "        while food_times[i%len(food_times)]!=0:\n",
        "            i +=1\n",
        "            answer = i%len(food_times)\n",
        "        \n",
        "            \n",
        "        \n",
        "    return answer"
      ],
      "metadata": {
        "id": "kn0bmId6EMxi"
      },
      "execution_count": 41,
      "outputs": []
    },
    {
      "cell_type": "code",
      "source": [
        "solution([3,1,2],5)"
      ],
      "metadata": {
        "colab": {
          "base_uri": "https://localhost:8080/",
          "height": 299
        },
        "id": "K1VDEsPPMNe1",
        "outputId": "6f079107-51e0-4d10-bfe7-f980149eaf36"
      },
      "execution_count": 37,
      "outputs": [
        {
          "output_type": "error",
          "ename": "TypeError",
          "evalue": "ignored",
          "traceback": [
            "\u001b[0;31m---------------------------------------------------------------------------\u001b[0m",
            "\u001b[0;31mTypeError\u001b[0m                                 Traceback (most recent call last)",
            "\u001b[0;32m<ipython-input-37-8e79fc3303f8>\u001b[0m in \u001b[0;36m<cell line: 1>\u001b[0;34m()\u001b[0m\n\u001b[0;32m----> 1\u001b[0;31m \u001b[0msolution\u001b[0m\u001b[0;34m(\u001b[0m\u001b[0;34m[\u001b[0m\u001b[0;36m3\u001b[0m\u001b[0;34m,\u001b[0m\u001b[0;36m1\u001b[0m\u001b[0;34m,\u001b[0m\u001b[0;36m2\u001b[0m\u001b[0;34m]\u001b[0m\u001b[0;34m,\u001b[0m\u001b[0;36m5\u001b[0m\u001b[0;34m)\u001b[0m\u001b[0;34m\u001b[0m\u001b[0;34m\u001b[0m\u001b[0m\n\u001b[0m",
            "\u001b[0;32m<ipython-input-36-451c528afd53>\u001b[0m in \u001b[0;36msolution\u001b[0;34m(food_times, k)\u001b[0m\n\u001b[1;32m      5\u001b[0m         \u001b[0manswer\u001b[0m \u001b[0;34m=\u001b[0m \u001b[0mk\u001b[0m\u001b[0;34m%\u001b[0m\u001b[0mlen\u001b[0m\u001b[0;34m(\u001b[0m\u001b[0mfood_times\u001b[0m\u001b[0;34m)\u001b[0m\u001b[0;34m+\u001b[0m\u001b[0;36m1\u001b[0m\u001b[0;34m\u001b[0m\u001b[0;34m\u001b[0m\u001b[0m\n\u001b[1;32m      6\u001b[0m     \u001b[0;32melif\u001b[0m \u001b[0mmin\u001b[0m\u001b[0;34m(\u001b[0m\u001b[0mfood_times\u001b[0m\u001b[0;34m)\u001b[0m\u001b[0;34m*\u001b[0m\u001b[0mlen\u001b[0m\u001b[0;34m(\u001b[0m\u001b[0mfood_times\u001b[0m\u001b[0;34m)\u001b[0m \u001b[0;34m<\u001b[0m \u001b[0mk\u001b[0m\u001b[0;34m:\u001b[0m\u001b[0;34m\u001b[0m\u001b[0;34m\u001b[0m\u001b[0m\n\u001b[0;32m----> 7\u001b[0;31m         \u001b[0mfood_times\u001b[0m \u001b[0;34m=\u001b[0m \u001b[0mfood_times\u001b[0m\u001b[0;34m-\u001b[0m\u001b[0mlist\u001b[0m\u001b[0;34m(\u001b[0m\u001b[0;34m[\u001b[0m\u001b[0mmin\u001b[0m\u001b[0;34m(\u001b[0m\u001b[0mfood_times\u001b[0m\u001b[0;34m)\u001b[0m\u001b[0;34m]\u001b[0m\u001b[0;34m*\u001b[0m\u001b[0mlen\u001b[0m\u001b[0;34m(\u001b[0m\u001b[0mfood_times\u001b[0m\u001b[0;34m)\u001b[0m\u001b[0;34m)\u001b[0m\u001b[0;34m\u001b[0m\u001b[0;34m\u001b[0m\u001b[0m\n\u001b[0m\u001b[1;32m      8\u001b[0m         \u001b[0mk\u001b[0m \u001b[0;34m-=\u001b[0m \u001b[0mmin\u001b[0m\u001b[0;34m(\u001b[0m\u001b[0mfood_times\u001b[0m\u001b[0;34m)\u001b[0m\u001b[0;34m*\u001b[0m\u001b[0mlen\u001b[0m\u001b[0;34m(\u001b[0m\u001b[0mfood_times\u001b[0m\u001b[0;34m)\u001b[0m\u001b[0;34m\u001b[0m\u001b[0;34m\u001b[0m\u001b[0m\n\u001b[1;32m      9\u001b[0m \u001b[0;34m\u001b[0m\u001b[0m\n",
            "\u001b[0;31mTypeError\u001b[0m: unsupported operand type(s) for -: 'list' and 'list'"
          ]
        }
      ]
    },
    {
      "cell_type": "code",
      "source": [
        "def solution(food_times, k):\n",
        "    zeros =[]\n",
        "    a=len(food_times)\n",
        "    if min(food_times) > k//a:\n",
        "        answer = k%a+1\n",
        "    elif k//a ==0:\n",
        "        answer = k+1\n",
        "    else:\n",
        "        mini = min(food_times)\n",
        "        food_times_a = food_times\n",
        "        while k //a ==0:\n",
        "            r = list(set(list(range(len(food_times))))-set(zeros))\n",
        "            a=len(r)\n",
        "            food_times_a = [food_times[i] for i in r]\n",
        "            mini = min(food_times_a)\n",
        "            if a ==0:\n",
        "                answer = -1\n",
        "                break;\n",
        "            food_times_a = [food_times[i]-mini for i in r]\n",
        "            for i in r:\n",
        "                if food_times_a[i]==0:\n",
        "                    k -= r*mini\n",
        "                    zeros.append(i)\n",
        "            answer = r[k%a]+1\n",
        "            \n",
        "            \n",
        "                \n",
        "    return answer"
      ],
      "metadata": {
        "id": "Bk0OI5_MOsZj"
      },
      "execution_count": 46,
      "outputs": []
    },
    {
      "cell_type": "code",
      "source": [],
      "metadata": {
        "id": "3IR2-vSXO1SA"
      },
      "execution_count": null,
      "outputs": []
    }
  ]
}